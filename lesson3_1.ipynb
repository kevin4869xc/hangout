{
 "cells": [
  {
   "cell_type": "code",
   "execution_count": 1,
   "metadata": {},
   "outputs": [
    {
     "name": "stdout",
     "output_type": "stream",
     "text": [
      "獎金是:500\n"
     ]
    }
   ],
   "source": [
    "#國文分數100 同時 數學分數100  獎金1000\n",
    "#國文分數100 或者 數學分數100  獎金500\n",
    "\n",
    "chinese = int(input(\"請輸入國文分數:\"))\n",
    "english = int(input(\"請輸入數學分數:\"))\n",
    "bonus = 0\n",
    "if chinese == 100:\n",
    "    if english == 100:\n",
    "        bonus = 1000\n",
    "    else:\n",
    "        bonus  = 500\n",
    "else:\n",
    "    if english == 100:\n",
    "        bonus = 500\n",
    "    else:\n",
    "        bonus  = 0\n",
    "\n",
    "print(f\"獎金是:{bonus}\")"
   ]
  },
  {
   "cell_type": "code",
   "execution_count": null,
   "metadata": {},
   "outputs": [],
   "source": [
    "#作業\n",
    "'''\n",
    "巢狀選擇\n",
    "• 如果x不是負數，則傳回值為 x ** (1 / y)。\n",
    "• 如果x是負數而且為偶數，則傳回值為\"虛數\"。\n",
    "• 如果x是負數而且為奇數，則傳回值為 -(-x) ** (1 / y)。\n",
    "\n",
    "'''"
   ]
  }
 ],
 "metadata": {
  "kernelspec": {
   "display_name": "Python 3.7.3 64-bit",
   "language": "python",
   "name": "python3"
  },
  "language_info": {
   "codemirror_mode": {
    "name": "ipython",
    "version": 3
   },
   "file_extension": ".py",
   "mimetype": "text/x-python",
   "name": "python",
   "nbconvert_exporter": "python",
   "pygments_lexer": "ipython3",
   "version": "3.7.3"
  },
  "orig_nbformat": 4,
  "vscode": {
   "interpreter": {
    "hash": "8c2dc7f55a4afb133f9671f18548a683b80d7f864af89313bd9839ac682f147f"
   }
  }
 },
 "nbformat": 4,
 "nbformat_minor": 2
}
