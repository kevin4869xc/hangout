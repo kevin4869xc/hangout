{
 "cells": [
  {
   "cell_type": "code",
   "execution_count": 1,
   "metadata": {},
   "outputs": [
    {
     "data": {
      "text/plain": [
       "False"
      ]
     },
     "execution_count": 1,
     "metadata": {},
     "output_type": "execute_result"
    }
   ],
   "source": [
    "x = 7\n",
    "x == 5 #比較運算子"
   ]
  },
  {
   "cell_type": "code",
   "execution_count": 2,
   "metadata": {},
   "outputs": [
    {
     "data": {
      "text/plain": [
       "True"
      ]
     },
     "execution_count": 2,
     "metadata": {},
     "output_type": "execute_result"
    }
   ],
   "source": [
    "x == 7 #比較運算子"
   ]
  },
  {
   "cell_type": "code",
   "execution_count": 3,
   "metadata": {},
   "outputs": [
    {
     "name": "stdout",
     "output_type": "stream",
     "text": [
      "沒有複習\n",
      "不及格\n",
      "程式結束\n"
     ]
    }
   ],
   "source": [
    "chinese_str = input(\"請輸入國文分數:\")\n",
    "chinese_int = int(chinese_str)\n",
    "if chinese_int >= 60:\n",
    "    print(f\"國文分數是{chinese_int}\")\n",
    "    print(\"及格\")\n",
    "else:\n",
    "    print(\"沒有複習\")\n",
    "    print(\"不及格\")\n",
    "print(\"程式結束\")"
   ]
  },
  {
   "cell_type": "code",
   "execution_count": 4,
   "metadata": {},
   "outputs": [
    {
     "name": "stdout",
     "output_type": "stream",
     "text": [
      "甲\n"
     ]
    }
   ],
   "source": [
    "'''\n",
    "• 90(含)~100分為「優」\n",
    "• 80(含)~89分為「甲」\n",
    "• 70(含)~79分為「乙」\n",
    "• 60(含)~69分為「丙」\n",
    "• 0(含)~59分為「丁」\n",
    "'''\n",
    "#多項選擇\n",
    "chinese = int(input(\"請輸入國文分數:\"))\n",
    "if chinese >= 90:\n",
    "    print(\"優\")\n",
    "elif chinese >= 80:\n",
    "    print(\"甲\")\n",
    "elif chinese >= 70:\n",
    "    print(\"乙\")\n",
    "elif chinese >= 60:\n",
    "    print(\"丙\")\n",
    "else:\n",
    "    print(\"丁\")"
   ]
  },
  {
   "cell_type": "code",
   "execution_count": null,
   "metadata": {},
   "outputs": [],
   "source": [
    "#作業\n",
    "'''\n",
    "輸入顧客購買金額，若金額在\n",
    "100000元打8折. \n",
    "50000打85折. \n",
    "30000打9折. \n",
    "10000打95折. \n",
    "\n",
    "請輸入購買金額:130000\n",
    "實付金額是: 104000.0 元\n",
    "'''"
   ]
  }
 ],
 "metadata": {
  "kernelspec": {
   "display_name": "Python 3.7.3 64-bit",
   "language": "python",
   "name": "python3"
  },
  "language_info": {
   "codemirror_mode": {
    "name": "ipython",
    "version": 3
   },
   "file_extension": ".py",
   "mimetype": "text/x-python",
   "name": "python",
   "nbconvert_exporter": "python",
   "pygments_lexer": "ipython3",
   "version": "3.7.3"
  },
  "orig_nbformat": 4,
  "vscode": {
   "interpreter": {
    "hash": "8c2dc7f55a4afb133f9671f18548a683b80d7f864af89313bd9839ac682f147f"
   }
  }
 },
 "nbformat": 4,
 "nbformat_minor": 2
}
