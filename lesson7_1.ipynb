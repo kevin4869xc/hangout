{
 "cells": [
  {
   "cell_type": "code",
   "execution_count": 1,
   "metadata": {},
   "outputs": [],
   "source": [
    "def menu(wine, entree, dessert):\n",
    "    print(f\"wine={wine}\")\n",
    "    print(f\"entree={entree}\")\n",
    "    print(f\"dessert={dessert}\")"
   ]
  },
  {
   "cell_type": "code",
   "execution_count": 2,
   "metadata": {},
   "outputs": [
    {
     "name": "stdout",
     "output_type": "stream",
     "text": [
      "wine=白酒\n",
      "entree=牛排\n",
      "dessert=蛋糕\n"
     ]
    }
   ],
   "source": [
    "#引數位置的呼叫\n",
    "#依照參數的順序\n",
    "menu('白酒','牛排','蛋糕')"
   ]
  },
  {
   "cell_type": "code",
   "execution_count": 3,
   "metadata": {},
   "outputs": [
    {
     "name": "stdout",
     "output_type": "stream",
     "text": [
      "wine=白酒\n",
      "entree=牛排\n",
      "dessert=蛋糕\n"
     ]
    }
   ],
   "source": [
    "#引數名稱的呼叫\n",
    "#參數名稱成為引數名稱\n",
    "#可以不依照參數的順序\n",
    "\n",
    "menu(entree='牛排',dessert='蛋糕',wine='白酒')"
   ]
  },
  {
   "cell_type": "code",
   "execution_count": 4,
   "metadata": {},
   "outputs": [
    {
     "name": "stdout",
     "output_type": "stream",
     "text": [
      "wine=紅酒\n",
      "entree=雞排\n",
      "dessert=冰淇淋\n"
     ]
    }
   ],
   "source": [
    "#混合呼叫\n",
    "#前面使用引數位置,後面可以使用引數名稱的呼叫\n",
    "#使用引數名稱後,後面的一定全部都要使用引數名稱\n",
    "menu('紅酒',dessert='冰淇淋',entree='雞排')"
   ]
  }
 ],
 "metadata": {
  "kernelspec": {
   "display_name": "Python 3.7.3 64-bit",
   "language": "python",
   "name": "python3"
  },
  "language_info": {
   "codemirror_mode": {
    "name": "ipython",
    "version": 3
   },
   "file_extension": ".py",
   "mimetype": "text/x-python",
   "name": "python",
   "nbconvert_exporter": "python",
   "pygments_lexer": "ipython3",
   "version": "3.7.3"
  },
  "orig_nbformat": 4,
  "vscode": {
   "interpreter": {
    "hash": "8c2dc7f55a4afb133f9671f18548a683b80d7f864af89313bd9839ac682f147f"
   }
  }
 },
 "nbformat": 4,
 "nbformat_minor": 2
}
